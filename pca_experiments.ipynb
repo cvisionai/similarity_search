{
 "cells": [
  {
   "cell_type": "code",
   "execution_count": 7,
   "metadata": {},
   "outputs": [],
   "source": [
    "import numpy as np\n",
    "import pandas as pd\n",
    "import sklearn as sk\n",
    "import faiss\n",
    "import pickle\n",
    "import glob\n",
    "import os\n",
    "import json\n",
    "import gc\n",
    "import uuid"
   ]
  },
  {
   "cell_type": "code",
   "execution_count": 5,
   "metadata": {},
   "outputs": [],
   "source": [
    "AF_train = examples.get('AF').get('train')\n",
    "AF_val = examples.get('AF').get('val')\n",
    "LM_train = examples.get('LM').get('train')\n",
    "LM_val = examples.get('LM').get('val')\n",
    "NA_train = examples.get('NA').get('train')\n",
    "NA_val = examples.get('NA').get('val')"
   ]
  },
  {
   "cell_type": "code",
   "execution_count": 13,
   "metadata": {},
   "outputs": [],
   "source": [
    "extracted_examples = glob.glob('/mnt/md0/Projects/EDF/Data_Files/2022-01-14-extraction/samples/*.hdf')"
   ]
  },
  {
   "cell_type": "code",
   "execution_count": 9,
   "metadata": {},
   "outputs": [
    {
     "name": "stdout",
     "output_type": "stream",
     "text": [
      "Starting Activity Fish_Presence\n",
      "NA: 498 \n",
      "AF: 396 \n",
      "LM: 286\n",
      "Starting examples 0\n",
      "Processing example 0\n",
      "Starting examples 1\n",
      "Processing example 0\n",
      "Starting examples 2\n",
      "Processing example 0\n",
      "Starting Activity Net_Activity\n",
      "NA: 486 \n",
      "AF: 466 \n",
      "LM: 494\n",
      "Starting examples 0\n",
      "Processing example 0\n",
      "Starting examples 1\n",
      "Processing example 0\n",
      "Starting examples 2\n",
      "Processing example 0\n",
      "Starting Activity Background\n",
      "NA: 494 \n",
      "AF: 497 \n",
      "LM: 494\n",
      "Starting examples 0\n",
      "Processing example 0\n",
      "Starting examples 1\n",
      "Processing example 0\n",
      "Starting examples 2\n",
      "Processing example 0\n"
     ]
    }
   ],
   "source": [
    "activities = ['Fish_Presence', 'Net_Activity', 'Background']\n",
    "for activity in activities:\n",
    "    print(f\"Starting Activity {activity}\")\n",
    "    NA_val_examples = glob.glob(f'/mnt/md0/Projects/EDF/Data_Files/2022-01-14-extraction/samples/val__NA__{activity}__*.hdf')\n",
    "    AF_val_examples = glob.glob(f'/mnt/md0/Projects/EDF/Data_Files/2022-01-14-extraction/samples/val__AF__{activity}__*.hdf')\n",
    "    LM_val_examples = glob.glob(f'/mnt/md0/Projects/EDF/Data_Files/2022-01-14-extraction/samples/val__LM__{activity}__*.hdf')\n",
    "    print(f\"NA: {len(NA_val_examples)} \\nAF: {len(AF_val_examples)} \\nLM: {len(LM_val_examples)}\")\n",
    "\n",
    "    current_val_seqs = np.zeros(((len(NA_val_examples) + len(AF_val_examples) + len(LM_val_examples))*2, 2048))\n",
    "\n",
    "    vessel_example_len_starts = [0, len(NA_val_examples), len(AF_val_examples)]\n",
    "\n",
    "    for idx,examples in enumerate([NA_val_examples, AF_val_examples, LM_val_examples]):\n",
    "        if idx == 1:\n",
    "            range_start = 4096\n",
    "            range_end = 6144\n",
    "        else:\n",
    "            range_start = 2048\n",
    "            range_end = 4096\n",
    "        print(f'Starting examples {idx}')\n",
    "        for i,example in enumerate(examples):\n",
    "            if i % 500 == 0:\n",
    "                print(f'Processing example {i}')\n",
    "                gc.collect()\n",
    "            seq = pd.read_hdf(example).to_numpy('float32')\n",
    "            current_val_seqs[vessel_example_len_starts[idx]*2 + i*2] = seq[0,range_start:range_end]\n",
    "            current_val_seqs[vessel_example_len_starts[idx]*2 + i*2+1] = seq[-1,range_start:range_end]\n",
    "\n",
    "    np.save(f'/mnt/md0/Projects/EDF/Data_Files/2022-04-21-FAISS/{activity}_val_seqs.npy', current_val_seqs)"
   ]
  },
  {
   "cell_type": "code",
   "execution_count": 4,
   "metadata": {},
   "outputs": [
    {
     "name": "stdout",
     "output_type": "stream",
     "text": [
      "NA: 4788 \n",
      "AF: 4959 \n",
      "LM: 4966\n"
     ]
    }
   ],
   "source": [
    "print(f\"NA: {len(NA_train_examples)} \\nAF: {len(AF_train_examples)} \\nLM: {len(LM_train_examples)}\")"
   ]
  },
  {
   "cell_type": "code",
   "execution_count": 4,
   "metadata": {},
   "outputs": [],
   "source": [
    "fish_presence_train_seqs = np.load('/mnt/md0/Projects/EDF/Data_Files/2022-04-21-FAISS/fish_presence_train_seqs.npy')\n",
    "net_activity_train_seqs = np.load('/mnt/md0/Projects/EDF/Data_Files/2022-04-21-FAISS/net_activity_train_seqs.npy')\n",
    "background_train_seqs = np.load('/mnt/md0/Projects/EDF/Data_Files/2022-04-21-FAISS/background_train_seqs.npy')"
   ]
  },
  {
   "cell_type": "code",
   "execution_count": 42,
   "metadata": {},
   "outputs": [],
   "source": [
    "fish_presence_val_seqs = np.load('/mnt/md0/Projects/EDF/Data_Files/2022-04-21-FAISS/Fish_Presence_val_seqs.npy')\n",
    "net_activity_val_seqs = np.load('/mnt/md0/Projects/EDF/Data_Files/2022-04-21-FAISS/Net_Activity_val_seqs.npy')\n",
    "background_val_seqs = np.load('/mnt/md0/Projects/EDF/Data_Files/2022-04-21-FAISS/Background_val_seqs.npy')"
   ]
  },
  {
   "cell_type": "code",
   "execution_count": 43,
   "metadata": {},
   "outputs": [
    {
     "name": "stdout",
     "output_type": "stream",
     "text": [
      "fish presence: 2360 \n",
      "net activity: 2892 \n",
      "background: 2970\n"
     ]
    }
   ],
   "source": [
    "print(f\"fish presence: {len(fish_presence_val_seqs)} \\nnet activity: {len(net_activity_val_seqs)} \\nbackground: {len(background_val_seqs)}\")"
   ]
  },
  {
   "cell_type": "code",
   "execution_count": 6,
   "metadata": {},
   "outputs": [
    {
     "name": "stdout",
     "output_type": "stream",
     "text": [
      "fish presence: 27422 \n",
      "net activity: 29210 \n",
      "background: 29426\n"
     ]
    }
   ],
   "source": [
    "print(f\"fish presence: {len(fish_presence_train_seqs)} \\nnet activity: {len(net_activity_train_seqs)} \\nbackground: {len(background_train_seqs)}\")"
   ]
  },
  {
   "cell_type": "code",
   "execution_count": 44,
   "metadata": {},
   "outputs": [],
   "source": [
    "val_classes = np.vstack((np.ones((2360+2892,1)), np.zeros((2970,1))))"
   ]
  },
  {
   "cell_type": "code",
   "execution_count": 22,
   "metadata": {},
   "outputs": [],
   "source": [
    "indices = [uuid.uuid1().int>>64 for x in range(len(fish_presence_train_seqs) + len(net_activity_train_seqs) + len(background_train_seqs))]"
   ]
  },
  {
   "cell_type": "code",
   "execution_count": 41,
   "metadata": {},
   "outputs": [],
   "source": [
    "index_dict = {idx : clas for idx,clas in zip(indices,classes)}"
   ]
  },
  {
   "cell_type": "code",
   "execution_count": 33,
   "metadata": {},
   "outputs": [],
   "source": [
    "index = faiss.IndexFlatL2(2048)\n",
    "index2 = faiss.IndexIDMap(index)\n",
    "index2.add_with_ids(np.vstack((fish_presence_train_seqs, net_activity_train_seqs, background_train_seqs)).astype('float32'),np.asarray(indices, dtype=np.int64))"
   ]
  },
  {
   "cell_type": "code",
   "execution_count": 45,
   "metadata": {},
   "outputs": [],
   "source": [
    "k = 25"
   ]
  },
  {
   "cell_type": "code",
   "execution_count": 55,
   "metadata": {},
   "outputs": [],
   "source": [
    "test_seq = fish_presence_val_seqs[0:1].astype('float32')"
   ]
  },
  {
   "cell_type": "code",
   "execution_count": 53,
   "metadata": {},
   "outputs": [
    {
     "data": {
      "text/plain": [
       "(1, 2048)"
      ]
     },
     "execution_count": 53,
     "metadata": {},
     "output_type": "execute_result"
    }
   ],
   "source": [
    "test_seq.shape"
   ]
  },
  {
   "cell_type": "code",
   "execution_count": 78,
   "metadata": {},
   "outputs": [],
   "source": [
    "D,I = index2.search(background_val_seqs.astype('float32'),k)\n",
    "I_uint = np.asarray(I,dtype=np.uint64) #need to convert back to uint"
   ]
  },
  {
   "cell_type": "code",
   "execution_count": 79,
   "metadata": {},
   "outputs": [],
   "source": [
    "background_classes = []\n",
    "for arr in I_uint:\n",
    "    cls = [index_dict.get(idx) for idx in arr]\n",
    "    sum = np.sum(cls)\n",
    "    if sum > 12:\n",
    "        background_classes.append(1)\n",
    "    else:\n",
    "        background_classes.append(0)"
   ]
  },
  {
   "cell_type": "code",
   "execution_count": 80,
   "metadata": {},
   "outputs": [
    {
     "data": {
      "text/plain": [
       "983"
      ]
     },
     "execution_count": 80,
     "metadata": {},
     "output_type": "execute_result"
    }
   ],
   "source": [
    "np.sum(np.asarray(background_classes))"
   ]
  },
  {
   "cell_type": "code",
   "execution_count": 11,
   "metadata": {},
   "outputs": [
    {
     "name": "stdout",
     "output_type": "stream",
     "text": [
      "Starting examples 0\n",
      "Processing example 0\n",
      "Processing example 500\n",
      "Processing example 1000\n",
      "Processing example 1500\n",
      "Processing example 2000\n",
      "Processing example 2500\n",
      "Processing example 3000\n",
      "Processing example 3500\n",
      "Processing example 4000\n",
      "Processing example 4500\n",
      "Starting examples 1\n",
      "Processing example 0\n",
      "Processing example 500\n",
      "Processing example 1000\n",
      "Processing example 1500\n",
      "Processing example 2000\n",
      "Processing example 2500\n",
      "Processing example 3000\n",
      "Processing example 3500\n",
      "Processing example 4000\n",
      "Processing example 4500\n",
      "Starting examples 2\n",
      "Processing example 0\n",
      "Processing example 500\n",
      "Processing example 1000\n",
      "Processing example 1500\n",
      "Processing example 2000\n",
      "Processing example 2500\n",
      "Processing example 3000\n",
      "Processing example 3500\n",
      "Processing example 4000\n",
      "Processing example 4500\n"
     ]
    }
   ],
   "source": [
    "for idx,train_examples in enumerate([NA_train_examples, AF_train_examples, LM_train_examples]):\n",
    "    if idx == 1:\n",
    "        range_start = 4096\n",
    "        range_end = 6144\n",
    "    else:\n",
    "        range_start = 2048\n",
    "        range_end = 4096\n",
    "    print(f'Starting examples {idx}')\n",
    "    for i,train_example in enumerate(train_examples):\n",
    "        if i % 500 == 0:\n",
    "            print(f'Processing example {i}')\n",
    "            gc.collect()\n",
    "        seq = pd.read_hdf(train_example).to_numpy('float32')\n",
    "        background_train_seqs[vessel_example_len_starts[idx]*2 + i*2] = seq[0,range_start:range_end]\n",
    "        background_train_seqs[vessel_example_len_starts[idx]*2 + i*2+1] = seq[-1,range_start:range_end]"
   ]
  },
  {
   "cell_type": "code",
   "execution_count": 10,
   "metadata": {},
   "outputs": [
    {
     "data": {
      "text/plain": [
       "1052"
      ]
     },
     "execution_count": 10,
     "metadata": {},
     "output_type": "execute_result"
    }
   ],
   "source": [
    "gc.collect()"
   ]
  },
  {
   "cell_type": "code",
   "execution_count": 76,
   "metadata": {},
   "outputs": [
    {
     "name": "stdout",
     "output_type": "stream",
     "text": [
      "Starting examples 0\n",
      "Processing example 0\n",
      "Processing example 500\n"
     ]
    },
    {
     "ename": "KeyboardInterrupt",
     "evalue": "",
     "output_type": "error",
     "traceback": [
      "\u001b[0;31m---------------------------------------------------------------------------\u001b[0m",
      "\u001b[0;31mKeyboardInterrupt\u001b[0m                         Traceback (most recent call last)",
      "\u001b[1;32m/home/ben/code/similarity_search/pca_experiments.ipynb Cell 12'\u001b[0m in \u001b[0;36m<cell line: 2>\u001b[0;34m()\u001b[0m\n\u001b[1;32m     <a href='vscode-notebook-cell://ssh-remote%2Bdevastator/home/ben/code/similarity_search/pca_experiments.ipynb#ch0000022vscode-remote?line=15'>16</a>\u001b[0m     first_example \u001b[39m=\u001b[39m \u001b[39mFalse\u001b[39;00m\n\u001b[1;32m     <a href='vscode-notebook-cell://ssh-remote%2Bdevastator/home/ben/code/similarity_search/pca_experiments.ipynb#ch0000022vscode-remote?line=16'>17</a>\u001b[0m     \u001b[39mcontinue\u001b[39;00m\n\u001b[0;32m---> <a href='vscode-notebook-cell://ssh-remote%2Bdevastator/home/ben/code/similarity_search/pca_experiments.ipynb#ch0000022vscode-remote?line=17'>18</a>\u001b[0m seq \u001b[39m=\u001b[39m pd\u001b[39m.\u001b[39;49mread_hdf(train_example)\u001b[39m.\u001b[39mto_numpy(\u001b[39m'\u001b[39m\u001b[39mfloat32\u001b[39m\u001b[39m'\u001b[39m)\n\u001b[1;32m     <a href='vscode-notebook-cell://ssh-remote%2Bdevastator/home/ben/code/similarity_search/pca_experiments.ipynb#ch0000022vscode-remote?line=18'>19</a>\u001b[0m tmp_seq \u001b[39m=\u001b[39m np\u001b[39m.\u001b[39mvstack((seq[\u001b[39m0\u001b[39m,range_start:range_end],seq[\u001b[39m-\u001b[39m\u001b[39m1\u001b[39m,range_start:range_end]))\n\u001b[1;32m     <a href='vscode-notebook-cell://ssh-remote%2Bdevastator/home/ben/code/similarity_search/pca_experiments.ipynb#ch0000022vscode-remote?line=19'>20</a>\u001b[0m background_train_seqs \u001b[39m=\u001b[39m np\u001b[39m.\u001b[39mvstack((background_train_seqs,tmp_seq))\n",
      "File \u001b[0;32m~/miniconda3/envs/pytorch-1.10/lib/python3.8/site-packages/pandas/io/pytables.py:455\u001b[0m, in \u001b[0;36mread_hdf\u001b[0;34m(path_or_buf, key, mode, errors, where, start, stop, columns, iterator, chunksize, **kwargs)\u001b[0m\n\u001b[1;32m    <a href='file:///home/ben/miniconda3/envs/pytorch-1.10/lib/python3.8/site-packages/pandas/io/pytables.py?line=449'>450</a>\u001b[0m                 \u001b[39mraise\u001b[39;00m \u001b[39mValueError\u001b[39;00m(\n\u001b[1;32m    <a href='file:///home/ben/miniconda3/envs/pytorch-1.10/lib/python3.8/site-packages/pandas/io/pytables.py?line=450'>451</a>\u001b[0m                     \u001b[39m\"\u001b[39m\u001b[39mkey must be provided when HDF5 \u001b[39m\u001b[39m\"\u001b[39m\n\u001b[1;32m    <a href='file:///home/ben/miniconda3/envs/pytorch-1.10/lib/python3.8/site-packages/pandas/io/pytables.py?line=451'>452</a>\u001b[0m                     \u001b[39m\"\u001b[39m\u001b[39mfile contains multiple datasets.\u001b[39m\u001b[39m\"\u001b[39m\n\u001b[1;32m    <a href='file:///home/ben/miniconda3/envs/pytorch-1.10/lib/python3.8/site-packages/pandas/io/pytables.py?line=452'>453</a>\u001b[0m                 )\n\u001b[1;32m    <a href='file:///home/ben/miniconda3/envs/pytorch-1.10/lib/python3.8/site-packages/pandas/io/pytables.py?line=453'>454</a>\u001b[0m         key \u001b[39m=\u001b[39m candidate_only_group\u001b[39m.\u001b[39m_v_pathname\n\u001b[0;32m--> <a href='file:///home/ben/miniconda3/envs/pytorch-1.10/lib/python3.8/site-packages/pandas/io/pytables.py?line=454'>455</a>\u001b[0m     \u001b[39mreturn\u001b[39;00m store\u001b[39m.\u001b[39;49mselect(\n\u001b[1;32m    <a href='file:///home/ben/miniconda3/envs/pytorch-1.10/lib/python3.8/site-packages/pandas/io/pytables.py?line=455'>456</a>\u001b[0m         key,\n\u001b[1;32m    <a href='file:///home/ben/miniconda3/envs/pytorch-1.10/lib/python3.8/site-packages/pandas/io/pytables.py?line=456'>457</a>\u001b[0m         where\u001b[39m=\u001b[39;49mwhere,\n\u001b[1;32m    <a href='file:///home/ben/miniconda3/envs/pytorch-1.10/lib/python3.8/site-packages/pandas/io/pytables.py?line=457'>458</a>\u001b[0m         start\u001b[39m=\u001b[39;49mstart,\n\u001b[1;32m    <a href='file:///home/ben/miniconda3/envs/pytorch-1.10/lib/python3.8/site-packages/pandas/io/pytables.py?line=458'>459</a>\u001b[0m         stop\u001b[39m=\u001b[39;49mstop,\n\u001b[1;32m    <a href='file:///home/ben/miniconda3/envs/pytorch-1.10/lib/python3.8/site-packages/pandas/io/pytables.py?line=459'>460</a>\u001b[0m         columns\u001b[39m=\u001b[39;49mcolumns,\n\u001b[1;32m    <a href='file:///home/ben/miniconda3/envs/pytorch-1.10/lib/python3.8/site-packages/pandas/io/pytables.py?line=460'>461</a>\u001b[0m         iterator\u001b[39m=\u001b[39;49miterator,\n\u001b[1;32m    <a href='file:///home/ben/miniconda3/envs/pytorch-1.10/lib/python3.8/site-packages/pandas/io/pytables.py?line=461'>462</a>\u001b[0m         chunksize\u001b[39m=\u001b[39;49mchunksize,\n\u001b[1;32m    <a href='file:///home/ben/miniconda3/envs/pytorch-1.10/lib/python3.8/site-packages/pandas/io/pytables.py?line=462'>463</a>\u001b[0m         auto_close\u001b[39m=\u001b[39;49mauto_close,\n\u001b[1;32m    <a href='file:///home/ben/miniconda3/envs/pytorch-1.10/lib/python3.8/site-packages/pandas/io/pytables.py?line=463'>464</a>\u001b[0m     )\n\u001b[1;32m    <a href='file:///home/ben/miniconda3/envs/pytorch-1.10/lib/python3.8/site-packages/pandas/io/pytables.py?line=464'>465</a>\u001b[0m \u001b[39mexcept\u001b[39;00m (\u001b[39mValueError\u001b[39;00m, \u001b[39mTypeError\u001b[39;00m, \u001b[39mKeyError\u001b[39;00m):\n\u001b[1;32m    <a href='file:///home/ben/miniconda3/envs/pytorch-1.10/lib/python3.8/site-packages/pandas/io/pytables.py?line=465'>466</a>\u001b[0m     \u001b[39mif\u001b[39;00m \u001b[39mnot\u001b[39;00m \u001b[39misinstance\u001b[39m(path_or_buf, HDFStore):\n\u001b[1;32m    <a href='file:///home/ben/miniconda3/envs/pytorch-1.10/lib/python3.8/site-packages/pandas/io/pytables.py?line=466'>467</a>\u001b[0m         \u001b[39m# if there is an error, close the store if we opened it.\u001b[39;00m\n",
      "File \u001b[0;32m~/miniconda3/envs/pytorch-1.10/lib/python3.8/site-packages/pandas/io/pytables.py:875\u001b[0m, in \u001b[0;36mHDFStore.select\u001b[0;34m(self, key, where, start, stop, columns, iterator, chunksize, auto_close)\u001b[0m\n\u001b[1;32m    <a href='file:///home/ben/miniconda3/envs/pytorch-1.10/lib/python3.8/site-packages/pandas/io/pytables.py?line=860'>861</a>\u001b[0m \u001b[39m# create the iterator\u001b[39;00m\n\u001b[1;32m    <a href='file:///home/ben/miniconda3/envs/pytorch-1.10/lib/python3.8/site-packages/pandas/io/pytables.py?line=861'>862</a>\u001b[0m it \u001b[39m=\u001b[39m TableIterator(\n\u001b[1;32m    <a href='file:///home/ben/miniconda3/envs/pytorch-1.10/lib/python3.8/site-packages/pandas/io/pytables.py?line=862'>863</a>\u001b[0m     \u001b[39mself\u001b[39m,\n\u001b[1;32m    <a href='file:///home/ben/miniconda3/envs/pytorch-1.10/lib/python3.8/site-packages/pandas/io/pytables.py?line=863'>864</a>\u001b[0m     s,\n\u001b[0;32m   (...)\u001b[0m\n\u001b[1;32m    <a href='file:///home/ben/miniconda3/envs/pytorch-1.10/lib/python3.8/site-packages/pandas/io/pytables.py?line=871'>872</a>\u001b[0m     auto_close\u001b[39m=\u001b[39mauto_close,\n\u001b[1;32m    <a href='file:///home/ben/miniconda3/envs/pytorch-1.10/lib/python3.8/site-packages/pandas/io/pytables.py?line=872'>873</a>\u001b[0m )\n\u001b[0;32m--> <a href='file:///home/ben/miniconda3/envs/pytorch-1.10/lib/python3.8/site-packages/pandas/io/pytables.py?line=874'>875</a>\u001b[0m \u001b[39mreturn\u001b[39;00m it\u001b[39m.\u001b[39;49mget_result()\n",
      "File \u001b[0;32m~/miniconda3/envs/pytorch-1.10/lib/python3.8/site-packages/pandas/io/pytables.py:1943\u001b[0m, in \u001b[0;36mTableIterator.get_result\u001b[0;34m(self, coordinates)\u001b[0m\n\u001b[1;32m   <a href='file:///home/ben/miniconda3/envs/pytorch-1.10/lib/python3.8/site-packages/pandas/io/pytables.py?line=1939'>1940</a>\u001b[0m     where \u001b[39m=\u001b[39m \u001b[39mself\u001b[39m\u001b[39m.\u001b[39mwhere\n\u001b[1;32m   <a href='file:///home/ben/miniconda3/envs/pytorch-1.10/lib/python3.8/site-packages/pandas/io/pytables.py?line=1941'>1942</a>\u001b[0m \u001b[39m# directly return the result\u001b[39;00m\n\u001b[0;32m-> <a href='file:///home/ben/miniconda3/envs/pytorch-1.10/lib/python3.8/site-packages/pandas/io/pytables.py?line=1942'>1943</a>\u001b[0m results \u001b[39m=\u001b[39m \u001b[39mself\u001b[39;49m\u001b[39m.\u001b[39;49mfunc(\u001b[39mself\u001b[39;49m\u001b[39m.\u001b[39;49mstart, \u001b[39mself\u001b[39;49m\u001b[39m.\u001b[39;49mstop, where)\n\u001b[1;32m   <a href='file:///home/ben/miniconda3/envs/pytorch-1.10/lib/python3.8/site-packages/pandas/io/pytables.py?line=1943'>1944</a>\u001b[0m \u001b[39mself\u001b[39m\u001b[39m.\u001b[39mclose()\n\u001b[1;32m   <a href='file:///home/ben/miniconda3/envs/pytorch-1.10/lib/python3.8/site-packages/pandas/io/pytables.py?line=1944'>1945</a>\u001b[0m \u001b[39mreturn\u001b[39;00m results\n",
      "File \u001b[0;32m~/miniconda3/envs/pytorch-1.10/lib/python3.8/site-packages/pandas/io/pytables.py:859\u001b[0m, in \u001b[0;36mHDFStore.select.<locals>.func\u001b[0;34m(_start, _stop, _where)\u001b[0m\n\u001b[1;32m    <a href='file:///home/ben/miniconda3/envs/pytorch-1.10/lib/python3.8/site-packages/pandas/io/pytables.py?line=857'>858</a>\u001b[0m \u001b[39mdef\u001b[39;00m \u001b[39mfunc\u001b[39m(_start, _stop, _where):\n\u001b[0;32m--> <a href='file:///home/ben/miniconda3/envs/pytorch-1.10/lib/python3.8/site-packages/pandas/io/pytables.py?line=858'>859</a>\u001b[0m     \u001b[39mreturn\u001b[39;00m s\u001b[39m.\u001b[39;49mread(start\u001b[39m=\u001b[39;49m_start, stop\u001b[39m=\u001b[39;49m_stop, where\u001b[39m=\u001b[39;49m_where, columns\u001b[39m=\u001b[39;49mcolumns)\n",
      "File \u001b[0;32m~/miniconda3/envs/pytorch-1.10/lib/python3.8/site-packages/pandas/io/pytables.py:3197\u001b[0m, in \u001b[0;36mBlockManagerFixed.read\u001b[0;34m(self, where, columns, start, stop)\u001b[0m\n\u001b[1;32m   <a href='file:///home/ben/miniconda3/envs/pytorch-1.10/lib/python3.8/site-packages/pandas/io/pytables.py?line=3193'>3194</a>\u001b[0m \u001b[39mfor\u001b[39;00m i \u001b[39min\u001b[39;00m \u001b[39mrange\u001b[39m(\u001b[39mself\u001b[39m\u001b[39m.\u001b[39mndim):\n\u001b[1;32m   <a href='file:///home/ben/miniconda3/envs/pytorch-1.10/lib/python3.8/site-packages/pandas/io/pytables.py?line=3195'>3196</a>\u001b[0m     _start, _stop \u001b[39m=\u001b[39m (start, stop) \u001b[39mif\u001b[39;00m i \u001b[39m==\u001b[39m select_axis \u001b[39melse\u001b[39;00m (\u001b[39mNone\u001b[39;00m, \u001b[39mNone\u001b[39;00m)\n\u001b[0;32m-> <a href='file:///home/ben/miniconda3/envs/pytorch-1.10/lib/python3.8/site-packages/pandas/io/pytables.py?line=3196'>3197</a>\u001b[0m     ax \u001b[39m=\u001b[39m \u001b[39mself\u001b[39;49m\u001b[39m.\u001b[39;49mread_index(\u001b[39mf\u001b[39;49m\u001b[39m\"\u001b[39;49m\u001b[39maxis\u001b[39;49m\u001b[39m{\u001b[39;49;00mi\u001b[39m}\u001b[39;49;00m\u001b[39m\"\u001b[39;49m, start\u001b[39m=\u001b[39;49m_start, stop\u001b[39m=\u001b[39;49m_stop)\n\u001b[1;32m   <a href='file:///home/ben/miniconda3/envs/pytorch-1.10/lib/python3.8/site-packages/pandas/io/pytables.py?line=3197'>3198</a>\u001b[0m     axes\u001b[39m.\u001b[39mappend(ax)\n\u001b[1;32m   <a href='file:///home/ben/miniconda3/envs/pytorch-1.10/lib/python3.8/site-packages/pandas/io/pytables.py?line=3199'>3200</a>\u001b[0m items \u001b[39m=\u001b[39m axes[\u001b[39m0\u001b[39m]\n",
      "File \u001b[0;32m~/miniconda3/envs/pytorch-1.10/lib/python3.8/site-packages/pandas/io/pytables.py:2904\u001b[0m, in \u001b[0;36mGenericFixed.read_index\u001b[0;34m(self, key, start, stop)\u001b[0m\n\u001b[1;32m   <a href='file:///home/ben/miniconda3/envs/pytorch-1.10/lib/python3.8/site-packages/pandas/io/pytables.py?line=2901'>2902</a>\u001b[0m \u001b[39melif\u001b[39;00m variety \u001b[39m==\u001b[39m \u001b[39m\"\u001b[39m\u001b[39mregular\u001b[39m\u001b[39m\"\u001b[39m:\n\u001b[1;32m   <a href='file:///home/ben/miniconda3/envs/pytorch-1.10/lib/python3.8/site-packages/pandas/io/pytables.py?line=2902'>2903</a>\u001b[0m     node \u001b[39m=\u001b[39m \u001b[39mgetattr\u001b[39m(\u001b[39mself\u001b[39m\u001b[39m.\u001b[39mgroup, key)\n\u001b[0;32m-> <a href='file:///home/ben/miniconda3/envs/pytorch-1.10/lib/python3.8/site-packages/pandas/io/pytables.py?line=2903'>2904</a>\u001b[0m     index \u001b[39m=\u001b[39m \u001b[39mself\u001b[39;49m\u001b[39m.\u001b[39;49mread_index_node(node, start\u001b[39m=\u001b[39;49mstart, stop\u001b[39m=\u001b[39;49mstop)\n\u001b[1;32m   <a href='file:///home/ben/miniconda3/envs/pytorch-1.10/lib/python3.8/site-packages/pandas/io/pytables.py?line=2904'>2905</a>\u001b[0m     \u001b[39mreturn\u001b[39;00m index\n\u001b[1;32m   <a href='file:///home/ben/miniconda3/envs/pytorch-1.10/lib/python3.8/site-packages/pandas/io/pytables.py?line=2905'>2906</a>\u001b[0m \u001b[39melse\u001b[39;00m:  \u001b[39m# pragma: no cover\u001b[39;00m\n",
      "File \u001b[0;32m~/miniconda3/envs/pytorch-1.10/lib/python3.8/site-packages/pandas/io/pytables.py:2983\u001b[0m, in \u001b[0;36mGenericFixed.read_index_node\u001b[0;34m(self, node, start, stop)\u001b[0m\n\u001b[1;32m   <a href='file:///home/ben/miniconda3/envs/pytorch-1.10/lib/python3.8/site-packages/pandas/io/pytables.py?line=2979'>2980</a>\u001b[0m \u001b[39mdef\u001b[39;00m \u001b[39mread_index_node\u001b[39m(\n\u001b[1;32m   <a href='file:///home/ben/miniconda3/envs/pytorch-1.10/lib/python3.8/site-packages/pandas/io/pytables.py?line=2980'>2981</a>\u001b[0m     \u001b[39mself\u001b[39m, node: Node, start: \u001b[39mint\u001b[39m \u001b[39m|\u001b[39m \u001b[39mNone\u001b[39;00m \u001b[39m=\u001b[39m \u001b[39mNone\u001b[39;00m, stop: \u001b[39mint\u001b[39m \u001b[39m|\u001b[39m \u001b[39mNone\u001b[39;00m \u001b[39m=\u001b[39m \u001b[39mNone\u001b[39;00m\n\u001b[1;32m   <a href='file:///home/ben/miniconda3/envs/pytorch-1.10/lib/python3.8/site-packages/pandas/io/pytables.py?line=2981'>2982</a>\u001b[0m ) \u001b[39m-\u001b[39m\u001b[39m>\u001b[39m Index:\n\u001b[0;32m-> <a href='file:///home/ben/miniconda3/envs/pytorch-1.10/lib/python3.8/site-packages/pandas/io/pytables.py?line=2982'>2983</a>\u001b[0m     data \u001b[39m=\u001b[39m node[start:stop]\n\u001b[1;32m   <a href='file:///home/ben/miniconda3/envs/pytorch-1.10/lib/python3.8/site-packages/pandas/io/pytables.py?line=2983'>2984</a>\u001b[0m     \u001b[39m# If the index was an empty array write_array_empty() will\u001b[39;00m\n\u001b[1;32m   <a href='file:///home/ben/miniconda3/envs/pytorch-1.10/lib/python3.8/site-packages/pandas/io/pytables.py?line=2984'>2985</a>\u001b[0m     \u001b[39m# have written a sentinel. Here we replace it with the original.\u001b[39;00m\n\u001b[1;32m   <a href='file:///home/ben/miniconda3/envs/pytorch-1.10/lib/python3.8/site-packages/pandas/io/pytables.py?line=2985'>2986</a>\u001b[0m     \u001b[39mif\u001b[39;00m \u001b[39m\"\u001b[39m\u001b[39mshape\u001b[39m\u001b[39m\"\u001b[39m \u001b[39min\u001b[39;00m node\u001b[39m.\u001b[39m_v_attrs \u001b[39mand\u001b[39;00m np\u001b[39m.\u001b[39mprod(node\u001b[39m.\u001b[39m_v_attrs\u001b[39m.\u001b[39mshape) \u001b[39m==\u001b[39m \u001b[39m0\u001b[39m:\n",
      "File \u001b[0;32m~/miniconda3/envs/pytorch-1.10/lib/python3.8/site-packages/tables/array.py:658\u001b[0m, in \u001b[0;36mArray.__getitem__\u001b[0;34m(self, key)\u001b[0m\n\u001b[1;32m    <a href='file:///home/ben/miniconda3/envs/pytorch-1.10/lib/python3.8/site-packages/tables/array.py?line=654'>655</a>\u001b[0m \u001b[39mtry\u001b[39;00m:\n\u001b[1;32m    <a href='file:///home/ben/miniconda3/envs/pytorch-1.10/lib/python3.8/site-packages/tables/array.py?line=655'>656</a>\u001b[0m     \u001b[39m# First, try with a regular selection\u001b[39;00m\n\u001b[1;32m    <a href='file:///home/ben/miniconda3/envs/pytorch-1.10/lib/python3.8/site-packages/tables/array.py?line=656'>657</a>\u001b[0m     startl, stopl, stepl, shape \u001b[39m=\u001b[39m \u001b[39mself\u001b[39m\u001b[39m.\u001b[39m_interpret_indexing(key)\n\u001b[0;32m--> <a href='file:///home/ben/miniconda3/envs/pytorch-1.10/lib/python3.8/site-packages/tables/array.py?line=657'>658</a>\u001b[0m     arr \u001b[39m=\u001b[39m \u001b[39mself\u001b[39;49m\u001b[39m.\u001b[39;49m_read_slice(startl, stopl, stepl, shape)\n\u001b[1;32m    <a href='file:///home/ben/miniconda3/envs/pytorch-1.10/lib/python3.8/site-packages/tables/array.py?line=658'>659</a>\u001b[0m \u001b[39mexcept\u001b[39;00m \u001b[39mTypeError\u001b[39;00m:\n\u001b[1;32m    <a href='file:///home/ben/miniconda3/envs/pytorch-1.10/lib/python3.8/site-packages/tables/array.py?line=659'>660</a>\u001b[0m     \u001b[39m# Then, try with a point-wise selection\u001b[39;00m\n\u001b[1;32m    <a href='file:///home/ben/miniconda3/envs/pytorch-1.10/lib/python3.8/site-packages/tables/array.py?line=660'>661</a>\u001b[0m     \u001b[39mtry\u001b[39;00m:\n",
      "File \u001b[0;32m~/miniconda3/envs/pytorch-1.10/lib/python3.8/site-packages/tables/array.py:762\u001b[0m, in \u001b[0;36mArray._read_slice\u001b[0;34m(self, startl, stopl, stepl, shape)\u001b[0m\n\u001b[1;32m    <a href='file:///home/ben/miniconda3/envs/pytorch-1.10/lib/python3.8/site-packages/tables/array.py?line=758'>759</a>\u001b[0m \u001b[39m# Protection against reading empty arrays\u001b[39;00m\n\u001b[1;32m    <a href='file:///home/ben/miniconda3/envs/pytorch-1.10/lib/python3.8/site-packages/tables/array.py?line=759'>760</a>\u001b[0m \u001b[39mif\u001b[39;00m \u001b[39m0\u001b[39m \u001b[39mnot\u001b[39;00m \u001b[39min\u001b[39;00m shape:\n\u001b[1;32m    <a href='file:///home/ben/miniconda3/envs/pytorch-1.10/lib/python3.8/site-packages/tables/array.py?line=760'>761</a>\u001b[0m     \u001b[39m# Arrays that have non-zero dimensionality\u001b[39;00m\n\u001b[0;32m--> <a href='file:///home/ben/miniconda3/envs/pytorch-1.10/lib/python3.8/site-packages/tables/array.py?line=761'>762</a>\u001b[0m     \u001b[39mself\u001b[39;49m\u001b[39m.\u001b[39;49m_g_read_slice(startl, stopl, stepl, nparr)\n\u001b[1;32m    <a href='file:///home/ben/miniconda3/envs/pytorch-1.10/lib/python3.8/site-packages/tables/array.py?line=762'>763</a>\u001b[0m \u001b[39m# For zero-shaped arrays, return the scalar\u001b[39;00m\n\u001b[1;32m    <a href='file:///home/ben/miniconda3/envs/pytorch-1.10/lib/python3.8/site-packages/tables/array.py?line=763'>764</a>\u001b[0m \u001b[39mif\u001b[39;00m nparr\u001b[39m.\u001b[39mshape \u001b[39m==\u001b[39m ():\n",
      "\u001b[0;31mKeyboardInterrupt\u001b[0m: "
     ]
    }
   ],
   "source": [
    "first_example = True\n",
    "for idx,train_examples in enumerate([NA_train_examples, AF_train_examples, LM_train_examples]):\n",
    "    if idx == 1:\n",
    "        range_start = 4096\n",
    "        range_end = 6144\n",
    "    else:\n",
    "        range_start = 2048\n",
    "        range_end = 4096\n",
    "    print(f'Starting examples {idx}')\n",
    "    for i,train_example in enumerate(train_examples):\n",
    "        if i % 500 == 0:\n",
    "            print(f'Processing example {i}')\n",
    "        if first_example == True:\n",
    "            seq = pd.read_hdf(train_example).to_numpy('float32')\n",
    "            background_train_seqs = np.vstack((seq[0,range_start:range_end],seq[-1,range_start:range_end]))\n",
    "            first_example = False\n",
    "            continue\n",
    "        seq = pd.read_hdf(train_example).to_numpy('float32')\n",
    "        tmp_seq = np.vstack((seq[0,range_start:range_end],seq[-1,range_start:range_end]))\n",
    "        background_train_seqs = np.vstack((background_train_seqs,tmp_seq))"
   ]
  },
  {
   "cell_type": "code",
   "execution_count": 33,
   "metadata": {},
   "outputs": [
    {
     "data": {
      "text/plain": [
       "4472"
      ]
     },
     "execution_count": 33,
     "metadata": {},
     "output_type": "execute_result"
    }
   ],
   "source": [
    "len(LM_train_fp_examples)"
   ]
  },
  {
   "cell_type": "code",
   "execution_count": 51,
   "metadata": {},
   "outputs": [
    {
     "data": {
      "text/plain": [
       "0"
      ]
     },
     "execution_count": 51,
     "metadata": {},
     "output_type": "execute_result"
    }
   ],
   "source": [
    "gc.collect()"
   ]
  },
  {
   "cell_type": "code",
   "execution_count": 56,
   "metadata": {},
   "outputs": [],
   "source": [
    "seq = pd.read_hdf(LM_train_fp_examples[0]).to_numpy('float32')"
   ]
  },
  {
   "cell_type": "code",
   "execution_count": 58,
   "metadata": {},
   "outputs": [],
   "source": [
    "LM_train_seqs = np.vstack((seq[0,2048:4096],seq[-1,2048:4096]))"
   ]
  },
  {
   "cell_type": "code",
   "execution_count": 59,
   "metadata": {},
   "outputs": [],
   "source": [
    "for train_example in LM_train_fp_examples[1:]:\n",
    "    seq = pd.read_hdf(train_example).to_numpy('float32')\n",
    "    tmp_seq = np.vstack((seq[0,2048:4096],seq[-1,2048:4096]))\n",
    "    LM_train_seqs = np.vstack((LM_train_seqs,tmp_seq))"
   ]
  },
  {
   "cell_type": "code",
   "execution_count": 62,
   "metadata": {},
   "outputs": [],
   "source": [
    "fish_presence_train_seqs = np.vstack((train_seqs, LM_train_seqs, AF_train_seqs))"
   ]
  },
  {
   "cell_type": "code",
   "execution_count": 71,
   "metadata": {},
   "outputs": [],
   "source": [
    "np.save('/mnt/md0/Projects/EDF/Data_Files/2022-04-21-FAISS/fish_presence_train_seqs.npy', fish_presence_train_seqs)"
   ]
  },
  {
   "cell_type": "code",
   "execution_count": 12,
   "metadata": {},
   "outputs": [],
   "source": [
    "np.save('/mnt/md0/Projects/EDF/Data_Files/2022-04-21-FAISS/background_train_seqs.npy', background_train_seqs)"
   ]
  }
 ],
 "metadata": {
  "interpreter": {
   "hash": "a5b684c4beac959e5d1c3e8c100108bb7fea54bd868133133bee67709bde0ad4"
  },
  "kernelspec": {
   "display_name": "Python 3.8.12 ('pytorch-1.10')",
   "language": "python",
   "name": "python3"
  },
  "language_info": {
   "codemirror_mode": {
    "name": "ipython",
    "version": 3
   },
   "file_extension": ".py",
   "mimetype": "text/x-python",
   "name": "python",
   "nbconvert_exporter": "python",
   "pygments_lexer": "ipython3",
   "version": "3.8.12"
  },
  "orig_nbformat": 4
 },
 "nbformat": 4,
 "nbformat_minor": 2
}
